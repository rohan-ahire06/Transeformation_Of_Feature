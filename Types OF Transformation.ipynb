{
 "cells": [
  {
   "cell_type": "markdown",
   "metadata": {},
   "source": [
    "## Transformation of Features\n",
    "Why Transformation of Features Are Required?\n",
    "\n",
    "    1.Linear Regression---Gradient Descent ----Global Minima\n",
    "    2.Algorithms like KNN,K Means,Hierarichal Clustering--- Eucledian Distance\n",
    "    \n",
    "Every Point has some vectors and Directiom\n",
    "\n",
    "Deep Learning Techniques(Standardization, Scaling) \n",
    "\n",
    "    1.ANN--->GLobal Minima, Gradient\n",
    "    2.CNN \n",
    "    3.RNN\n",
    "\n",
    "0-255 pixels\n",
    "\n",
    "\n",
    "### Types Of Transformation\n",
    "\n",
    "    1.Normalization And Standardization\n",
    "    2.Scaling to Minimum And Maximum values\n",
    "    3.Scaling To Median And Quantiles\n",
    "    4.Guassian Transformation \n",
    "     -> Logarithmic Transformation \n",
    "     -> Reciprocal Trnasformation \n",
    "     -> Square Root Transformation \n",
    "     -> ExponentialTrnasformation \n",
    "     -> Box Cox Transformation       "
   ]
  }
 ],
 "metadata": {
  "kernelspec": {
   "display_name": "Python 3",
   "language": "python",
   "name": "python3"
  },
  "language_info": {
   "codemirror_mode": {
    "name": "ipython",
    "version": 3
   },
   "file_extension": ".py",
   "mimetype": "text/x-python",
   "name": "python",
   "nbconvert_exporter": "python",
   "pygments_lexer": "ipython3",
   "version": "3.8.5"
  }
 },
 "nbformat": 4,
 "nbformat_minor": 4
}
